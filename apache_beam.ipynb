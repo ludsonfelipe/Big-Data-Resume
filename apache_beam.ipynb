{
 "cells": [
  {
   "attachments": {},
   "cell_type": "markdown",
   "metadata": {},
   "source": [
    "# Apache Beam \n",
    "\n",
    "* With beam we can process data for streaming or batch\n",
    "* We can choose our runner, like spark or dataflow\n",
    "* Beam works in parallel"
   ]
  },
  {
   "attachments": {},
   "cell_type": "markdown",
   "metadata": {},
   "source": [
    "## Showing the results\n",
    "\n",
    "to show the elements we can use .LogElements() or .Map(print)"
   ]
  },
  {
   "cell_type": "code",
   "execution_count": 5,
   "metadata": {},
   "outputs": [],
   "source": [
    "#!pip install apache-beam\n",
    "#!pip install apache-beam[interactive]"
   ]
  },
  {
   "cell_type": "code",
   "execution_count": 6,
   "metadata": {},
   "outputs": [
    {
     "name": "stdout",
     "output_type": "stream",
     "text": [
      "Hello Beam\n"
     ]
    }
   ],
   "source": [
    "import apache_beam as beam\n",
    "\n",
    "with beam.Pipeline() as p:\n",
    "\n",
    "  (p | beam.Create(['Hello Beam'])\n",
    "     | beam.LogElements())\n",
    "  \n"
   ]
  },
  {
   "attachments": {},
   "cell_type": "markdown",
   "metadata": {},
   "source": [
    "## Branching"
   ]
  },
  {
   "cell_type": "code",
   "execution_count": 7,
   "metadata": {},
   "outputs": [],
   "source": [
    "import matplotlib.pyplot as plt"
   ]
  },
  {
   "cell_type": "code",
   "execution_count": 8,
   "metadata": {},
   "outputs": [
    {
     "name": "stdout",
     "output_type": "stream",
     "text": [
      "Beam\n",
      "Hello\n"
     ]
    }
   ],
   "source": [
    "import apache_beam as beam\n",
    "\n",
    "with beam.Pipeline() as p:\n",
    "\n",
    "  hello_beam = (p \n",
    "     | beam.Create(['Hello Beam']))\n",
    "  \n",
    "  hello = (hello_beam\n",
    "    | beam.Map(lambda x: x.split()[0])\n",
    "    | \"Print Hello\" >> beam.Map(print))\n",
    "    \n",
    "  beam = (hello_beam \n",
    "    | beam.Map(lambda x: x.split()[1])\n",
    "    | \"Print Beam\" >> beam.Map(print))  \n"
   ]
  },
  {
   "attachments": {},
   "cell_type": "markdown",
   "metadata": {},
   "source": [
    "## Combiners"
   ]
  },
  {
   "attachments": {},
   "cell_type": "markdown",
   "metadata": {},
   "source": [
    "### Count"
   ]
  },
  {
   "cell_type": "code",
   "execution_count": 35,
   "metadata": {},
   "outputs": [
    {
     "name": "stdout",
     "output_type": "stream",
     "text": [
      "How many itens has in my array\n",
      "5\n",
      "\n",
      "Calculating repetead keys\n",
      "('laranja', 2)\n",
      "('maça', 2)\n",
      "('banana', 1)\n",
      "\n",
      "Calculatind repetead elements\n",
      "(('laranja', 1), 2)\n",
      "(('maça', 1), 1)\n",
      "(('maça', 2), 1)\n",
      "(('banana', 4), 1)\n"
     ]
    }
   ],
   "source": [
    "import apache_beam as beam\n",
    "\n",
    "my_array_of_fruits = [\n",
    "    (\"laranja\", 1),\n",
    "    (\"maça\", 1),\n",
    "    (\"laranja\", 1),\n",
    "    (\"maça\", 2),\n",
    "    (\"banana\", 4)\n",
    "  ]\n",
    "\n",
    "print(\"How many itens has in my array\")\n",
    "\n",
    "with beam.Pipeline() as p:\n",
    "\n",
    "  numbers = (p | beam.Create(my_array_of_fruits))\n",
    "\n",
    "  count = (numbers \n",
    "         | beam.combiners.Count.Globally()\n",
    "         | \"count\" >> beam.LogElements())\n",
    "  \n",
    "print(\"\\nCalculating repetead keys\")\n",
    "\n",
    "with beam.Pipeline() as p:\n",
    "  numbers = (p | beam.Create(my_array_of_fruits))\n",
    "\n",
    "  count_by_key = (numbers \n",
    "           | beam.combiners.Count().PerKey()\n",
    "           | beam.LogElements())\n",
    "  \n",
    "print(\"\\nCalculatind repetead elements\")\n",
    "with beam.Pipeline() as p:\n",
    "  numbers = (p | beam.Create(my_array_of_fruits))\n",
    "  \n",
    "  count_by_elements = ((numbers \n",
    "           | beam.combiners.Count().PerElement()\n",
    "           | beam.LogElements()))"
   ]
  },
  {
   "attachments": {},
   "cell_type": "markdown",
   "metadata": {},
   "source": [
    "### Some metrics\n",
    "\n",
    ".Top\n",
    ".Mean\n",
    ".ToSet\n",
    ".ToDict"
   ]
  },
  {
   "cell_type": "code",
   "execution_count": 59,
   "metadata": {},
   "outputs": [
    {
     "name": "stdout",
     "output_type": "stream",
     "text": [
      "{1, 2, 3, 4, 5, 6, 7, 8, 9, 10}\n",
      "5.5\n",
      "[1, 2, 3]\n",
      "[10, 9, 8]\n"
     ]
    }
   ],
   "source": [
    "# Also we have .perKey() in Top\n",
    "with beam.Pipeline() as p:\n",
    "\n",
    "  numbers = (p | beam.Create(range(1, 11)))\n",
    "  \n",
    "  smallest = (numbers\n",
    "     | beam.combiners.Top.Smallest(3)\n",
    "     | \"smallest\" >> beam.LogElements())\n",
    "  \n",
    "  largest = (numbers\n",
    "     | beam.combiners.Top.Largest(3)\n",
    "     | \"largest\" >> beam.LogElements())\n",
    "  \n",
    "  average = (numbers\n",
    "     | beam.combiners.Mean().Globally()\n",
    "     | \"average\" >> beam.LogElements())\n",
    "\n",
    "  transform_in_set = (numbers\n",
    "      | beam.combiners.ToSet()\n",
    "      | \"transform in set\" >> beam.LogElements())"
   ]
  },
  {
   "attachments": {},
   "cell_type": "markdown",
   "metadata": {},
   "source": [
    "### Our own functions\n",
    ".CombineGlobally()"
   ]
  },
  {
   "cell_type": "code",
   "execution_count": null,
   "metadata": {},
   "outputs": [],
   "source": [
    "beam.combiners.np.square"
   ]
  },
  {
   "cell_type": "code",
   "execution_count": 57,
   "metadata": {},
   "outputs": [
    {
     "name": "stdout",
     "output_type": "stream",
     "text": [
      "{1, 2, 3, 4, 5, 6, 7, 8, 9, 10}\n",
      "55\n"
     ]
    }
   ],
   "source": [
    "with beam.Pipeline() as p:\n",
    "\n",
    "    numbers = (p | beam.Create(range(1, 11)))\n",
    "\n",
    "    mean = (numbers\n",
    "        | beam.combiners.ToSet()    \n",
    "        | \"average\" >> beam.LogElements()) \n",
    "    \n",
    "    sum_ = (numbers\n",
    "        | beam.CombineGlobally(sum)\n",
    "        | \"sum\" >> beam.LogElements()) \n",
    "    \n"
   ]
  },
  {
   "cell_type": "code",
   "execution_count": null,
   "metadata": {},
   "outputs": [],
   "source": []
  }
 ],
 "metadata": {
  "kernelspec": {
   "display_name": "base",
   "language": "python",
   "name": "python3"
  },
  "language_info": {
   "codemirror_mode": {
    "name": "ipython",
    "version": 3
   },
   "file_extension": ".py",
   "mimetype": "text/x-python",
   "name": "python",
   "nbconvert_exporter": "python",
   "pygments_lexer": "ipython3",
   "version": "3.9.12"
  },
  "orig_nbformat": 4
 },
 "nbformat": 4,
 "nbformat_minor": 2
}
