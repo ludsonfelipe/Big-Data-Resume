{
 "cells": [
  {
   "attachments": {},
   "cell_type": "markdown",
   "metadata": {},
   "source": [
    "# Apache Beam \n",
    "\n",
    "* With beam we can process data for streaming or batch\n",
    "* We can choose our runner, like spark or dataflow\n",
    "* Beam works in parallel"
   ]
  },
  {
   "attachments": {},
   "cell_type": "markdown",
   "metadata": {},
   "source": [
    "## Showing the results\n",
    "\n",
    "to show the elements we can use .LogElements() or .Map(print)"
   ]
  },
  {
   "cell_type": "code",
   "execution_count": 1,
   "metadata": {},
   "outputs": [],
   "source": [
    "#!pip install apache-beam\n",
    "#!pip install apache-beam[interactive]"
   ]
  },
  {
   "cell_type": "code",
   "execution_count": 2,
   "metadata": {},
   "outputs": [
    {
     "data": {
      "application/javascript": "\n        if (typeof window.interactive_beam_jquery == 'undefined') {\n          var jqueryScript = document.createElement('script');\n          jqueryScript.src = 'https://code.jquery.com/jquery-3.4.1.slim.min.js';\n          jqueryScript.type = 'text/javascript';\n          jqueryScript.onload = function() {\n            var datatableScript = document.createElement('script');\n            datatableScript.src = 'https://cdn.datatables.net/1.10.20/js/jquery.dataTables.min.js';\n            datatableScript.type = 'text/javascript';\n            datatableScript.onload = function() {\n              window.interactive_beam_jquery = jQuery.noConflict(true);\n              window.interactive_beam_jquery(document).ready(function($){\n                \n              });\n            }\n            document.head.appendChild(datatableScript);\n          };\n          document.head.appendChild(jqueryScript);\n        } else {\n          window.interactive_beam_jquery(document).ready(function($){\n            \n          });\n        }"
     },
     "metadata": {},
     "output_type": "display_data"
    },
    {
     "name": "stdout",
     "output_type": "stream",
     "text": [
      "Hello Beam\n"
     ]
    }
   ],
   "source": [
    "import apache_beam as beam\n",
    "\n",
    "with beam.Pipeline() as p:\n",
    "\n",
    "  (p | beam.Create(['Hello Beam'])\n",
    "     | beam.LogElements())\n",
    "  \n"
   ]
  },
  {
   "attachments": {},
   "cell_type": "markdown",
   "metadata": {},
   "source": [
    "## Branching"
   ]
  },
  {
   "cell_type": "code",
   "execution_count": 13,
   "metadata": {},
   "outputs": [],
   "source": [
    "import matplotlib.pyplot as plt"
   ]
  },
  {
   "cell_type": "code",
   "execution_count": 14,
   "metadata": {},
   "outputs": [
    {
     "name": "stdout",
     "output_type": "stream",
     "text": [
      "Beam\n",
      "Hello\n"
     ]
    }
   ],
   "source": [
    "import apache_beam as beam\n",
    "import graphviz\n",
    "from apache_beam.runners.interactive import interactive_runner\n",
    "from apache_beam.runners.interactive.interactive_beam import *\n",
    "\n",
    "with beam.Pipeline(interactive_runner.InteractiveRunner()) as p:\n",
    "\n",
    "  hello_beam = (p \n",
    "     | beam.Create(['Hello Beam']))\n",
    "  \n",
    "  hello = (hello_beam\n",
    "    | beam.Map(lambda x: x.split()[0])\n",
    "    | \"Print Hello\" >> beam.Map(print))\n",
    "    \n",
    "  beam = (hello_beam \n",
    "    | beam.Map(lambda x: x.split()[1])\n",
    "    | \"Print Beam\" >> beam.Map(print))  \n",
    "\n",
    "import apache_beam.runners.interactive.interactive_beam as ib"
   ]
  },
  {
   "cell_type": "code",
   "execution_count": 8,
   "metadata": {},
   "outputs": [
    {
     "data": {
      "text/html": [
       "digraph G {\n",
       "node [color=blue, fontcolor=blue, shape=box];\n",
       "\"[3]: Create\";\n",
       "hello_beam [shape=circle];\n",
       "\"[3]: Map(<lambda at 2652298496.py:12>)\";\n",
       "pcoll5866 [label=\"\", shape=circle];\n",
       "\"[3]: Print Hello\";\n",
       "hello [shape=circle];\n",
       "\"[3]: Map(<lambda at 2652298496.py:16>)\";\n",
       "pcoll2009 [label=\"\", shape=circle];\n",
       "\"[3]: Print Beam\";\n",
       "beam [shape=circle];\n",
       "\"[3]: ReifyBefore_WriteCache_5435eeb714-2754702089232-2754702087504-2754701355568\";\n",
       "pcoll8616 [label=\"\", shape=circle];\n",
       "\"[3]: WriteCache_5435eeb714-2754702089232-2754702087504-2754701355568\";\n",
       "pcoll2318 [label=\"\", shape=circle];\n",
       "\"[3]: ReifyBefore_WriteCache_12f738400c-2754702013728-2754702121232-2754701355568\";\n",
       "pcoll7779 [label=\"\", shape=circle];\n",
       "\"[3]: WriteCache_12f738400c-2754702013728-2754702121232-2754701355568\";\n",
       "pcoll8748 [label=\"\", shape=circle];\n",
       "\"[3]: ReifyBefore_WriteCache_5d41402abc-2754702086688-2754702088320-2754701355568\";\n",
       "pcoll7305 [label=\"\", shape=circle];\n",
       "\"[3]: WriteCache_5d41402abc-2754702086688-2754702088320-2754701355568\";\n",
       "pcoll8942 [label=\"\", shape=circle];\n",
       "\"[3]: Create\" -> hello_beam;\n",
       "hello_beam -> \"[3]: Map(<lambda at 2652298496.py:12>)\";\n",
       "hello_beam -> \"[3]: Map(<lambda at 2652298496.py:16>)\";\n",
       "hello_beam -> \"[3]: ReifyBefore_WriteCache_12f738400c-2754702013728-2754702121232-2754701355568\";\n",
       "\"[3]: Map(<lambda at 2652298496.py:12>)\" -> pcoll5866;\n",
       "pcoll5866 -> \"[3]: Print Hello\";\n",
       "\"[3]: Print Hello\" -> hello;\n",
       "hello -> \"[3]: ReifyBefore_WriteCache_5d41402abc-2754702086688-2754702088320-2754701355568\";\n",
       "\"[3]: Map(<lambda at 2652298496.py:16>)\" -> pcoll2009;\n",
       "pcoll2009 -> \"[3]: Print Beam\";\n",
       "\"[3]: Print Beam\" -> beam;\n",
       "beam -> \"[3]: ReifyBefore_WriteCache_5435eeb714-2754702089232-2754702087504-2754701355568\";\n",
       "\"[3]: ReifyBefore_WriteCache_5435eeb714-2754702089232-2754702087504-2754701355568\" -> pcoll8616;\n",
       "pcoll8616 -> \"[3]: WriteCache_5435eeb714-2754702089232-2754702087504-2754701355568\";\n",
       "\"[3]: WriteCache_5435eeb714-2754702089232-2754702087504-2754701355568\" -> pcoll2318;\n",
       "\"[3]: ReifyBefore_WriteCache_12f738400c-2754702013728-2754702121232-2754701355568\" -> pcoll7779;\n",
       "pcoll7779 -> \"[3]: WriteCache_12f738400c-2754702013728-2754702121232-2754701355568\";\n",
       "\"[3]: WriteCache_12f738400c-2754702013728-2754702121232-2754701355568\" -> pcoll8748;\n",
       "\"[3]: ReifyBefore_WriteCache_5d41402abc-2754702086688-2754702088320-2754701355568\" -> pcoll7305;\n",
       "pcoll7305 -> \"[3]: WriteCache_5d41402abc-2754702086688-2754702088320-2754701355568\";\n",
       "\"[3]: WriteCache_5d41402abc-2754702086688-2754702088320-2754701355568\" -> pcoll8942;\n",
       "}\n"
      ],
      "text/plain": [
       "<IPython.core.display.HTML object>"
      ]
     },
     "metadata": {},
     "output_type": "display_data"
    }
   ],
   "source": [
    "from apache_beam.runners.interactive.display import *\n",
    "graph = pipeline_graph.PipelineGraph(p) \n",
    "graph.display_graph()"
   ]
  },
  {
   "cell_type": "code",
   "execution_count": null,
   "metadata": {},
   "outputs": [],
   "source": []
  },
  {
   "cell_type": "code",
   "execution_count": null,
   "metadata": {},
   "outputs": [],
   "source": []
  }
 ],
 "metadata": {
  "kernelspec": {
   "display_name": "base",
   "language": "python",
   "name": "python3"
  },
  "language_info": {
   "codemirror_mode": {
    "name": "ipython",
    "version": 3
   },
   "file_extension": ".py",
   "mimetype": "text/x-python",
   "name": "python",
   "nbconvert_exporter": "python",
   "pygments_lexer": "ipython3",
   "version": "3.9.12"
  },
  "orig_nbformat": 4
 },
 "nbformat": 4,
 "nbformat_minor": 2
}
